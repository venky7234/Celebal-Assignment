{
 "cells": [
  {
   "cell_type": "code",
   "execution_count": 2,
   "id": "6d002ccd-3d4c-4a8a-ac43-8e2430e734b2",
   "metadata": {},
   "outputs": [],
   "source": [
    "import pandas as pd\n",
    "import numpy as np\n",
    "import matplotlib.pyplot as plt\n",
    "import seaborn as sns\n",
    "\n",
    "from sklearn.model_selection import train_test_split, GridSearchCV, cross_val_score\n",
    "from sklearn.preprocessing import StandardScaler\n",
    "from sklearn.impute import SimpleImputer\n",
    "from sklearn.metrics import classification_report, confusion_matrix, accuracy_score, f1_score\n",
    "\n",
    "# Classical ML Models\n",
    "from sklearn.linear_model import LogisticRegression\n",
    "from sklearn.tree import DecisionTreeClassifier\n",
    "from sklearn.svm import SVC\n",
    "from sklearn.neighbors import KNeighborsClassifier\n",
    "from sklearn.ensemble import RandomForestClassifier\n",
    "\n",
    "# Advanced Models\n",
    "from xgboost import XGBClassifier\n",
    "from lightgbm import LGBMClassifier\n",
    "from catboost import CatBoostClassifier"
   ]
  },
  {
   "cell_type": "code",
   "execution_count": 3,
   "id": "d1b66c8e-d523-4f94-8c48-06b5237a1083",
   "metadata": {},
   "outputs": [
    {
     "name": "stdout",
     "output_type": "stream",
     "text": [
      "Train Shape: (1639424, 7)\n",
      "Test Shape: (409856, 7)\n"
     ]
    },
    {
     "data": {
      "text/html": [
       "<div>\n",
       "<style scoped>\n",
       "    .dataframe tbody tr th:only-of-type {\n",
       "        vertical-align: middle;\n",
       "    }\n",
       "\n",
       "    .dataframe tbody tr th {\n",
       "        vertical-align: top;\n",
       "    }\n",
       "\n",
       "    .dataframe thead th {\n",
       "        text-align: right;\n",
       "    }\n",
       "</style>\n",
       "<table border=\"1\" class=\"dataframe\">\n",
       "  <thead>\n",
       "    <tr style=\"text-align: right;\">\n",
       "      <th></th>\n",
       "      <th>Date</th>\n",
       "      <th>X1</th>\n",
       "      <th>X2</th>\n",
       "      <th>X3</th>\n",
       "      <th>X4</th>\n",
       "      <th>X5</th>\n",
       "      <th>target</th>\n",
       "    </tr>\n",
       "  </thead>\n",
       "  <tbody>\n",
       "    <tr>\n",
       "      <th>0</th>\n",
       "      <td>2020-12-16</td>\n",
       "      <td>1.518921</td>\n",
       "      <td>5.463154</td>\n",
       "      <td>1.0</td>\n",
       "      <td>2.718282</td>\n",
       "      <td>2.890372</td>\n",
       "      <td>0</td>\n",
       "    </tr>\n",
       "    <tr>\n",
       "      <th>1</th>\n",
       "      <td>2020-12-16</td>\n",
       "      <td>1.546509</td>\n",
       "      <td>5.458010</td>\n",
       "      <td>1.0</td>\n",
       "      <td>2.718282</td>\n",
       "      <td>2.833213</td>\n",
       "      <td>1</td>\n",
       "    </tr>\n",
       "    <tr>\n",
       "      <th>2</th>\n",
       "      <td>2020-12-16</td>\n",
       "      <td>1.645427</td>\n",
       "      <td>5.456560</td>\n",
       "      <td>1.0</td>\n",
       "      <td>7.389056</td>\n",
       "      <td>2.890372</td>\n",
       "      <td>1</td>\n",
       "    </tr>\n",
       "    <tr>\n",
       "      <th>3</th>\n",
       "      <td>2020-12-16</td>\n",
       "      <td>1.652022</td>\n",
       "      <td>5.458479</td>\n",
       "      <td>1.0</td>\n",
       "      <td>2.718282</td>\n",
       "      <td>2.890372</td>\n",
       "      <td>1</td>\n",
       "    </tr>\n",
       "    <tr>\n",
       "      <th>4</th>\n",
       "      <td>2020-12-16</td>\n",
       "      <td>1.695538</td>\n",
       "      <td>5.466709</td>\n",
       "      <td>1.0</td>\n",
       "      <td>2.718282</td>\n",
       "      <td>2.890372</td>\n",
       "      <td>0</td>\n",
       "    </tr>\n",
       "  </tbody>\n",
       "</table>\n",
       "</div>"
      ],
      "text/plain": [
       "        Date        X1        X2   X3        X4        X5 target\n",
       "0 2020-12-16  1.518921  5.463154  1.0  2.718282  2.890372      0\n",
       "1 2020-12-16  1.546509  5.458010  1.0  2.718282  2.833213      1\n",
       "2 2020-12-16  1.645427  5.456560  1.0  7.389056  2.890372      1\n",
       "3 2020-12-16  1.652022  5.458479  1.0  2.718282  2.890372      1\n",
       "4 2020-12-16  1.695538  5.466709  1.0  2.718282  2.890372      0"
      ]
     },
     "execution_count": 3,
     "metadata": {},
     "output_type": "execute_result"
    }
   ],
   "source": [
    "train_df = pd.read_parquet(\"celebal-ana-verse-h/train.parquet\", engine='pyarrow')\n",
    "test_df = pd.read_parquet(\"celebal-ana-verse-h/test.parquet\", engine='pyarrow')\n",
    "sample_submission = pd.read_parquet(\"celebal-ana-verse-h/sample_submission.parquet\", engine='pyarrow')\n",
    "\n",
    "\n",
    "# Basic overview\n",
    "print(\"Train Shape:\", train_df.shape)\n",
    "print(\"Test Shape:\", test_df.shape)\n",
    "\n",
    "# Preview first few rows\n",
    "train_df.head()"
   ]
  },
  {
   "cell_type": "code",
   "execution_count": 4,
   "id": "99bbdf93-a5b9-413e-9833-9280d183635f",
   "metadata": {},
   "outputs": [
    {
     "name": "stdout",
     "output_type": "stream",
     "text": [
      "Index(['Date', 'X1', 'X2', 'X3', 'X4', 'X5', 'target'], dtype='object')\n"
     ]
    },
    {
     "data": {
      "image/png": "[encoded data removed]",
      "text/plain": [
       "<Figure size 640x480 with 1 Axes>"
      ]
     },
     "metadata": {},
     "output_type": "display_data"
    }
   ],
   "source": [
    "# List column names\n",
    "print(train_df.columns)\n",
    "\n",
    "# Replace 'target' with your actual target column name from this output\n",
    "target_column = 'target'  # <<< CHANGE THIS IF NEEDED\n",
    "\n",
    "# Check for class balance\n",
    "sns.countplot(x=train_df[target_column])\n",
    "plt.title(\"Target Class Distribution\")\n",
    "plt.show()"
   ]
  },
  {
   "cell_type": "code",
   "execution_count": 5,
   "id": "8405000c-f030-4b18-9a00-4187be57c3a2",
   "metadata": {},
   "outputs": [],
   "source": [
    "from sklearn.impute import SimpleImputer\n",
    "import pandas as pd\n",
    "\n",
    "# Separate features and target\n",
    "X = train_df.drop(columns=[target_column])\n",
    "y = train_df[target_column]\n",
    "\n",
    "# Select only numeric columns (exclude datetime, object, etc.)\n",
    "X_numeric = X.select_dtypes(include=['number'])\n",
    "\n",
    "# Now apply imputation ONLY on numeric columns\n",
    "imputer = SimpleImputer(strategy='mean')\n",
    "X_numeric_imputed = pd.DataFrame(imputer.fit_transform(X_numeric), columns=X_numeric.columns)\n",
    "\n",
    "# (Optional) Keep the non-numeric columns (if you need them later)\n",
    "non_numeric = X.drop(columns=X_numeric.columns)\n",
    "\n",
    "# Combine back the cleaned numeric and untouched non-numeric columns\n",
    "X_cleaned = pd.concat([X_numeric_imputed, non_numeric.reset_index(drop=True)], axis=1)\n"
   ]
  },
  {
   "cell_type": "code",
   "execution_count": 6,
   "id": "551e1e73-f0e7-45bd-9888-87a7c5f3313d",
   "metadata": {},
   "outputs": [
    {
     "name": "stdout",
     "output_type": "stream",
     "text": [
      "Date    datetime64[ns]\n",
      "X1             float64\n",
      "X2             float64\n",
      "X3             float64\n",
      "X4             float64\n",
      "X5             float64\n",
      "dtype: object\n"
     ]
    }
   ],
   "source": [
    "print(X.dtypes)\n"
   ]
  },
  {
   "cell_type": "code",
   "execution_count": 7,
   "id": "8f1e90f0-24d0-4e42-bfa0-23f944181ee1",
   "metadata": {},
   "outputs": [],
   "source": [
    "from sklearn.preprocessing import StandardScaler\n",
    "\n",
    "scaler = StandardScaler()\n",
    "X_scaled_numeric = pd.DataFrame(scaler.fit_transform(X_numeric_imputed), columns=X_numeric_imputed.columns)\n"
   ]
  },
  {
   "cell_type": "code",
   "execution_count": 8,
   "id": "97669fa6-13ab-42ff-b96a-a6b282fb5e2d",
   "metadata": {},
   "outputs": [],
   "source": [
    "# Assuming you're only working with numeric columns\n",
    "X = train_df.drop(columns=[target_column])\n",
    "y = train_df[target_column]\n",
    "\n",
    "# Select numeric columns\n",
    "X_numeric = X.select_dtypes(include=['number'])\n",
    "\n",
    "# Impute missing values\n",
    "imputer = SimpleImputer(strategy='mean')\n",
    "X_numeric_imputed = pd.DataFrame(imputer.fit_transform(X_numeric), columns=X_numeric.columns)\n",
    "\n",
    "# Scale the numeric data\n",
    "scaler = StandardScaler()\n",
    "X_scaled = pd.DataFrame(scaler.fit_transform(X_numeric_imputed), columns=X_numeric_imputed.columns)\n",
    "\n",
    "# Now do the train-test split\n",
    "from sklearn.model_selection import train_test_split\n",
    "X_train, X_val, y_train, y_val = train_test_split(X_scaled, y, test_size=0.2, random_state=42)\n"
   ]
  },
  {
   "cell_type": "code",
   "execution_count": 9,
   "id": "97988233-6892-4027-b39d-d7d3443d7183",
   "metadata": {},
   "outputs": [
    {
     "name": "stdout",
     "output_type": "stream",
     "text": [
      "\n",
      "Logistic Regression Results:\n",
      "Accuracy: 0.991631212162801\n",
      "F1 Score: 0.9884422139316486\n",
      "              precision    recall  f1-score   support\n",
      "\n",
      "           0       0.99      1.00      1.00    325118\n",
      "           1       0.53      0.07      0.12      2767\n",
      "\n",
      "    accuracy                           0.99    327885\n",
      "   macro avg       0.76      0.53      0.56    327885\n",
      "weighted avg       0.99      0.99      0.99    327885\n",
      "\n",
      "\n",
      "Decision Tree Results:\n",
      "Accuracy: 0.9880506885035912\n",
      "F1 Score: 0.9879791794294354\n",
      "              precision    recall  f1-score   support\n",
      "\n",
      "           0       0.99      0.99      0.99    325118\n",
      "           1       0.29      0.28      0.28      2767\n",
      "\n",
      "    accuracy                           0.99    327885\n",
      "   macro avg       0.64      0.64      0.64    327885\n",
      "weighted avg       0.99      0.99      0.99    327885\n",
      "\n",
      "\n",
      "KNN Results:\n",
      "Accuracy: 0.9911401863458225\n",
      "F1 Score: 0.988922777967813\n",
      "              precision    recall  f1-score   support\n",
      "\n",
      "           0       0.99      1.00      1.00    325118\n",
      "           1       0.42      0.14      0.21      2767\n",
      "\n",
      "    accuracy                           0.99    327885\n",
      "   macro avg       0.71      0.57      0.60    327885\n",
      "weighted avg       0.99      0.99      0.99    327885\n",
      "\n",
      "\n",
      "Random Forest Results:\n",
      "Accuracy: 0.9919239977431111\n",
      "F1 Score: 0.990323064238661\n",
      "              precision    recall  f1-score   support\n",
      "\n",
      "           0       0.99      1.00      1.00    325118\n",
      "           1       0.55      0.24      0.33      2767\n",
      "\n",
      "    accuracy                           0.99    327885\n",
      "   macro avg       0.77      0.62      0.66    327885\n",
      "weighted avg       0.99      0.99      0.99    327885\n",
      "\n"
     ]
    },
    {
     "name": "stderr",
     "output_type": "stream",
     "text": [
      "C:\\Users\\hp\\anaconda3\\Lib\\site-packages\\xgboost\\training.py:183: UserWarning: [14:26:52] WARNING: C:\\actions-runner\\_work\\xgboost\\xgboost\\src\\learner.cc:738: \n",
      "Parameters: { \"use_label_encoder\" } are not used.\n",
      "\n",
      "  bst.update(dtrain, iteration=i, fobj=obj)\n"
     ]
    },
    {
     "name": "stdout",
     "output_type": "stream",
     "text": [
      "\n",
      "XGBoost Results:\n",
      "Accuracy: 0.9930951400643518\n",
      "F1 Score: 0.9910839624470623\n",
      "              precision    recall  f1-score   support\n",
      "\n",
      "           0       0.99      1.00      1.00    325118\n",
      "           1       0.85      0.22      0.35      2767\n",
      "\n",
      "    accuracy                           0.99    327885\n",
      "   macro avg       0.92      0.61      0.67    327885\n",
      "weighted avg       0.99      0.99      0.99    327885\n",
      "\n",
      "[LightGBM] [Info] Number of positive: 2182, number of negative: 260126\n",
      "[LightGBM] [Info] Auto-choosing col-wise multi-threading, the overhead of testing was 0.018178 seconds.\n",
      "You can set `force_col_wise=true` to remove the overhead.\n",
      "[LightGBM] [Info] Total Bins 625\n",
      "[LightGBM] [Info] Number of data points in the train set: 262308, number of used features: 5\n",
      "[LightGBM] [Info] [binary:BoostFromScore]: pavg=0.008318 -> initscore=-4.780924\n",
      "[LightGBM] [Info] Start training from score -4.780924\n",
      "\n",
      "LightGBM Results:\n",
      "Accuracy: 0.9934946703874834\n",
      "F1 Score: 0.9922761085182971\n",
      "              precision    recall  f1-score   support\n",
      "\n",
      "           0       0.99      1.00      1.00    325118\n",
      "           1       0.75      0.34      0.47      2767\n",
      "\n",
      "    accuracy                           0.99    327885\n",
      "   macro avg       0.87      0.67      0.73    327885\n",
      "weighted avg       0.99      0.99      0.99    327885\n",
      "\n",
      "\n",
      "CatBoost Results:\n",
      "Accuracy: 0.9931683364594294\n",
      "F1 Score: 0.9911000130950786\n",
      "              precision    recall  f1-score   support\n",
      "\n",
      "           0       0.99      1.00      1.00    325118\n",
      "           1       0.89      0.22      0.35      2767\n",
      "\n",
      "    accuracy                           0.99    327885\n",
      "   macro avg       0.94      0.61      0.67    327885\n",
      "weighted avg       0.99      0.99      0.99    327885\n",
      "\n"
     ]
    }
   ],
   "source": [
    "models = {\n",
    "    'Logistic Regression': LogisticRegression(max_iter=500),\n",
    "    'Decision Tree': DecisionTreeClassifier(),\n",
    "    'KNN': KNeighborsClassifier(n_neighbors=3),\n",
    "    'Random Forest': RandomForestClassifier(n_estimators=50),\n",
    "    'XGBoost': XGBClassifier(use_label_encoder=False, eval_metric='logloss', n_estimators=50),\n",
    "    'LightGBM': LGBMClassifier(n_estimators=50),\n",
    "    'CatBoost': CatBoostClassifier(verbose=0, iterations=50)\n",
    "}\n",
    "\n",
    "X_train_small = X_train.sample(frac=0.2, random_state=42)\n",
    "y_train_small = y_train.loc[X_train_small.index].astype(int)\n",
    "y_val = y_val.astype(int)\n",
    "\n",
    "for name, model in models.items():\n",
    "    model.fit(X_train_small, y_train_small)\n",
    "    preds = model.predict(X_val)\n",
    "    print(f\"\\n{name} Results:\")\n",
    "    print(\"Accuracy:\", accuracy_score(y_val, preds))\n",
    "    print(\"F1 Score:\", f1_score(y_val, preds, average='weighted'))\n",
    "    print(classification_report(y_val, preds))\n",
    "\n"
   ]
  },
  {
   "cell_type": "code",
   "execution_count": 10,
   "id": "d62f8c8e-13f9-41a4-ae55-d0ae0bf99f26",
   "metadata": {},
   "outputs": [
    {
     "name": "stdout",
     "output_type": "stream",
     "text": [
      "Best Parameters: {'n_estimators': 100, 'max_depth': 10}\n"
     ]
    }
   ],
   "source": [
    "from sklearn.model_selection import RandomizedSearchCV\n",
    "\n",
    "X_sample = X_train.sample(frac=0.2, random_state=42)\n",
    "y_sample = y_train.loc[X_sample.index]\n",
    "\n",
    "param_grid = {\n",
    "    'n_estimators': [100, 200],\n",
    "    'max_depth': [5, 10, 20]\n",
    "}\n",
    "\n",
    "random_search = RandomizedSearchCV(\n",
    "    RandomForestClassifier(),\n",
    "    param_distributions=param_grid,\n",
    "    n_iter=4,\n",
    "    scoring='f1_weighted',\n",
    "    cv=3,\n",
    "    n_jobs=-1,\n",
    "    random_state=42\n",
    ")\n",
    "\n",
    "random_search.fit(X_sample, y_sample)\n",
    "print(\"Best Parameters:\", random_search.best_params_)\n"
   ]
  },
  {
   "cell_type": "code",
   "execution_count": 18,
   "id": "940f3342-3904-4e4c-bd68-ea85a25df501",
   "metadata": {},
   "outputs": [
    {
     "name": "stderr",
     "output_type": "stream",
     "text": [
      "C:\\Users\\hp\\anaconda3\\Lib\\site-packages\\sklearn\\base.py:493: UserWarning: X does not have valid feature names, but RandomForestClassifier was fitted with feature names\n",
      "  warnings.warn(\n"
     ]
    },
    {
     "name": "stdout",
     "output_type": "stream",
     "text": [
      "Length mismatch! Predictions: 409856, Submission: 50\n"
     ]
    }
   ],
   "source": [
    "# Step 1: Drop unnecessary columns from test_df\n",
    "test_features = test_df.drop(columns=['Date', 'ID'])\n",
    "\n",
    "# Step 2: Impute missing values using the same imputer used on training data\n",
    "test_imputed = imputer.transform(test_features)\n",
    "\n",
    "# Step 3: Scale the data using the same scaler used on training data\n",
    "test_scaled = scaler.transform(pd.DataFrame(test_imputed, columns=X_train.columns))\n",
    "\n",
    "# Step 4: Predict using the best model from RandomizedSearchCV\n",
    "final_model = random_search.best_estimator_\n",
    "test_preds = final_model.predict(test_scaled)\n",
    "\n",
    "# Step 5: Ensure test_preds matches submission length\n",
    "if len(test_preds) != len(sample_submission):\n",
    "    print(f\"Length mismatch! Predictions: {len(test_preds)}, Submission: {len(sample_submission)}\")\n",
    "else:\n",
    "    # Step 6: Assign predictions to submission DataFrame\n",
    "    submission = sample_submission.copy()\n",
    "    submission[target_column] = test_preds\n",
    "\n",
    "    # Step 7: Save to CSV\n",
    "    submission.to_csv(\"final_submission.csv\", index=False)\n",
    "    print(\"✅ Submission file saved as final_submission.csv\")\n"
   ]
  },
  {
   "cell_type": "code",
   "execution_count": 21,
   "id": "25cf605b-0333-4424-92d2-2b139fce0662",
   "metadata": {},
   "outputs": [
    {
     "name": "stdout",
     "output_type": "stream",
     "text": [
      "test_df shape: (409856, 7)\n",
      "sample_submission shape: (50, 2)\n"
     ]
    }
   ],
   "source": [
    "print(\"test_df shape:\", test_df.shape)\n",
    "print(\"sample_submission shape:\", sample_submission.shape)\n",
    "test_df = pd.read_parquet(\"celebal-ana-verse-h/test.parquet\")  # Replace with your actual file\n"
   ]
  },
  {
   "cell_type": "code",
   "execution_count": 28,
   "id": "0ed9f5e9-936d-4b7e-8fe7-d377fc1941d1",
   "metadata": {},
   "outputs": [
    {
     "name": "stdout",
     "output_type": "stream",
     "text": [
      "Test shape: (409856, 7)\n",
      "Sample submission shape: (50, 2)\n",
      "Sample submission head:\n",
      "        ID target\n",
      "0  409856      0\n",
      "1  409857      0\n",
      "2  409858      0\n",
      "3  409859      0\n",
      "4  409860      0\n"
     ]
    }
   ],
   "source": [
    "print(\"Test shape:\", test_df.shape)\n",
    "print(\"Sample submission shape:\", sample_submission.shape)\n",
    "print(\"Sample submission head:\\n\", sample_submission.head())\n"
   ]
  },
  {
   "cell_type": "code",
   "execution_count": 30,
   "id": "6cdbc601-9584-4533-8cb1-a131e543e44e",
   "metadata": {},
   "outputs": [
    {
     "name": "stdout",
     "output_type": "stream",
     "text": [
      "✅ Correct submission file saved as final_submission.csv\n"
     ]
    }
   ],
   "source": [
    "import pandas as pd\n",
    "\n",
    "# Load test data\n",
    "test_df = pd.read_parquet(\"celebal-ana-verse-h/test.parquet\")\n",
    "\n",
    "# Create a new submission DataFrame with matching IDs\n",
    "correct_submission = pd.DataFrame({\n",
    "    'ID': test_df['ID'],\n",
    "    'target': test_preds  # Your predicted values\n",
    "})\n",
    "\n",
    "# Save the correct submission\n",
    "correct_submission.to_csv(\"final_submission.csv\", index=False)\n",
    "print(\"✅ Correct submission file saved as final_submission.csv\")\n"
   ]
  },
  {
   "cell_type": "code",
   "execution_count": 33,
   "id": "11805b8b-e035-4d44-bcc9-3d458c2b0017",
   "metadata": {},
   "outputs": [
    {
     "data": {
      "image/png": "[encoded data removed]",
      "text/plain": [
       "<Figure size 640x480 with 1 Axes>"
      ]
     },
     "metadata": {},
     "output_type": "display_data"
    }
   ],
   "source": [
    "import pandas as pd\n",
    "import matplotlib.pyplot as plt\n",
    "import seaborn as sns\n",
    "\n",
    "# Get importances and correct feature names\n",
    "importances = final_model.feature_importances_\n",
    "feat_names = X_train.columns  # Use this instead of train_df\n",
    "\n",
    "# Create DataFrame and plot\n",
    "feat_imp_df = pd.DataFrame({\n",
    "    'Feature': feat_names,\n",
    "    'Importance': importances\n",
    "})\n",
    "\n",
    "# Sort and plot top 15\n",
    "feat_imp_df = feat_imp_df.sort_values(by='Importance', ascending=False)\n",
    "\n",
    "sns.barplot(data=feat_imp_df.head(15), x='Importance', y='Feature')\n",
    "plt.title(\"Top 15 Important Features\")\n",
    "plt.tight_layout()\n",
    "plt.show()\n"
   ]
  },
  {
   "cell_type": "code",
   "execution_count": 37,
   "id": "34b5e91b-f269-43db-b33b-6ae6d00d4c72",
   "metadata": {},
   "outputs": [
    {
     "name": "stdout",
     "output_type": "stream",
     "text": [
      "✅ Best Model Evaluation Metrics:\n",
      "📊 Accuracy Score: 0.9950\n",
      "🎯 F1 Score: 0.5964\n"
     ]
    }
   ],
   "source": [
    "from sklearn.model_selection import train_test_split\n",
    "from sklearn.metrics import accuracy_score, f1_score\n",
    "\n",
    "# Drop or convert datetime columns before splitting\n",
    "X = train_df.drop(columns=[target_column])\n",
    "\n",
    "# Convert datetime columns if any\n",
    "datetime_cols = X.select_dtypes(include=['datetime64']).columns\n",
    "for col in datetime_cols:\n",
    "    X[col + '_hour'] = X[col].dt.hour\n",
    "    X[col + '_day'] = X[col].dt.day\n",
    "    X[col + '_month'] = X[col].dt.month\n",
    "    X = X.drop(columns=[col])\n",
    "\n",
    "# Target column\n",
    "y = train_df[target_column].astype(int)  # ✅ Convert to int\n",
    "\n",
    "# Train/Validation Split\n",
    "X_train, X_valid, y_train, y_valid = train_test_split(X, y, test_size=0.2, random_state=42)\n",
    "\n",
    "# Fit model\n",
    "final_model.fit(X_train, y_train)\n",
    "\n",
    "# Predictions on validation set\n",
    "y_pred = final_model.predict(X_valid).astype(int)  # ✅ Ensure predictions are int\n",
    "\n",
    "# Evaluation\n",
    "print(\"✅ Best Model Evaluation Metrics:\")\n",
    "print(f\"📊 Accuracy Score: {accuracy_score(y_valid, y_pred):.4f}\")\n",
    "print(f\"🎯 F1 Score: {f1_score(y_valid, y_pred):.4f}\")\n"
   ]
  }
 ],
 "metadata": {
  "kernelspec": {
   "display_name": "Python 3 (ipykernel)",
   "language": "python",
   "name": "python3"
  },
  "language_info": {
   "codemirror_mode": {
    "name": "ipython",
    "version": 3
   },
   "file_extension": ".py",
   "mimetype": "text/x-python",
   "name": "python",
   "nbconvert_exporter": "python",
   "pygments_lexer": "ipython3",
   "version": "3.12.4"
  }
 },
 "nbformat": 4,
 "nbformat_minor": 5
}
